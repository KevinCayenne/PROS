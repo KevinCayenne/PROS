{
 "cells": [
  {
   "cell_type": "code",
   "execution_count": 1,
   "metadata": {
    "collapsed": true
   },
   "outputs": [],
   "source": [
    "%matplotlib inline\n",
    "import numpy as np\n",
    "import matplotlib as plt\n",
    "import pandas as pd"
   ]
  },
  {
   "cell_type": "code",
   "execution_count": 2,
   "metadata": {},
   "outputs": [
    {
     "name": "stderr",
     "output_type": "stream",
     "text": [
      "C:\\Users\\acer\\Anaconda3\\lib\\site-packages\\ggplot\\utils.py:81: FutureWarning: pandas.tslib is deprecated and will be removed in a future version.\n",
      "You can access Timestamp as pandas.Timestamp\n",
      "  pd.tslib.Timestamp,\n",
      "C:\\Users\\acer\\Anaconda3\\lib\\site-packages\\ggplot\\stats\\smoothers.py:4: FutureWarning: The pandas.lib module is deprecated and will be removed in a future version. These are private functions and can be accessed from pandas._libs.lib instead\n",
      "  from pandas.lib import Timestamp\n",
      "C:\\Users\\acer\\Anaconda3\\lib\\site-packages\\statsmodels\\compat\\pandas.py:56: FutureWarning: The pandas.core.datetools module is deprecated and will be removed in a future version. Please use the pandas.tseries module instead.\n",
      "  from pandas.core import datetools\n"
     ]
    }
   ],
   "source": [
    "import rpy2.robjects as robjects\n",
    "from rpy2.robjects.packages import importr, data\n",
    "import ggplot as gg\n",
    "from rpy2.robjects import pandas2ri\n",
    "pandas2ri.activate()"
   ]
  },
  {
   "cell_type": "code",
   "execution_count": 3,
   "metadata": {
    "collapsed": true
   },
   "outputs": [],
   "source": [
    "stats = importr('stats')\n",
    "graphics = importr('graphics')\n",
    "base = importr('base')\n",
    "datasets = importr('datasets')\n",
    "lb =  importr('labeling', lib_loc=\"C:/Users/acer/Documents/R/win-library/3.4\")\n",
    "ggr = importr('ggplot2', lib_loc=\"C:/Users/acer/Documents/R/win-library/3.4\")\n",
    "gp = importr('ggpubr', lib_loc=\"C:/Users/acer/Documents/R/win-library/3.4\")\n",
    "gt = importr('gtools', lib_loc=\"C:/Users/acer/Documents/R/win-library/3.4\")"
   ]
  },
  {
   "cell_type": "code",
   "execution_count": 4,
   "metadata": {},
   "outputs": [
    {
     "data": {
      "text/plain": [
       "rpy2.robjects.vectors.DataFrame"
      ]
     },
     "execution_count": 4,
     "metadata": {},
     "output_type": "execute_result"
    }
   ],
   "source": [
    "mtcars = data(datasets).fetch('mtcars')['mtcars']\n",
    "type(mtcars)"
   ]
  },
  {
   "cell_type": "code",
   "execution_count": 5,
   "metadata": {},
   "outputs": [
    {
     "data": {
      "text/plain": [
       "pandas.core.frame.DataFrame"
      ]
     },
     "execution_count": 5,
     "metadata": {},
     "output_type": "execute_result"
    }
   ],
   "source": [
    "mmtcars = pandas2ri.ri2py(mtcars)\n",
    "type(mmtcars)"
   ]
  },
  {
   "cell_type": "code",
   "execution_count": 6,
   "metadata": {},
   "outputs": [
    {
     "data": {
      "text/plain": [
       "pandas.core.frame.DataFrame"
      ]
     },
     "execution_count": 6,
     "metadata": {},
     "output_type": "execute_result"
    }
   ],
   "source": [
    "pmmtcars = pd.DataFrame(mmtcars) \n",
    "type(pmmtcars)"
   ]
  },
  {
   "cell_type": "code",
   "execution_count": 7,
   "metadata": {},
   "outputs": [
    {
     "data": {
      "image/png": "[encoded data removed]",
      "text/plain": [
       "<matplotlib.figure.Figure at 0x29eb9cf1080>"
      ]
     },
     "metadata": {},
     "output_type": "display_data"
    },
    {
     "data": {
      "text/plain": [
       "<ggplot: (180046593996)>"
      ]
     },
     "execution_count": 7,
     "metadata": {},
     "output_type": "execute_result"
    }
   ],
   "source": [
    "pp = gg.ggplot(gg.aes(x='wt', y='mpg', col='factor(cyl)'), data = pmmtcars) + \\\n",
    "         gg.geom_point()\n",
    "pp"
   ]
  },
  {
   "cell_type": "code",
   "execution_count": 8,
   "metadata": {},
   "outputs": [
    {
     "name": "stderr",
     "output_type": "stream",
     "text": [
      "C:\\Users\\acer\\Anaconda3\\lib\\site-packages\\rpy2-2.9.0-py3.6-win-amd64.egg\\rpy2\\robjects\\lib\\dplyr.py:24: UserWarning: This was designed againt dplyr version 0.7.2 but you have 0.7.4\n",
      "  warnings.warn('This was designed againt dplyr version %s but you have %s' % (TARGET_VERSION, dplyr.__version__))\n"
     ]
    }
   ],
   "source": [
    "lazyeval = importr('lazyeval', lib_loc=\"C:/Users/acer/Documents/R/win-library/3.4\")\n",
    "import rpy2.robjects.lib.dplyr as dp\n",
    "import rpy2.robjects.lib.ggplot2 as ggr\n",
    "\n",
    "ggp = ggr.ggplot(mtcars)\n",
    "try_ggplot = ggp + \\\n",
    "     ggr.aes_string(x='wt', y='mpg') + \\\n",
    "     ggr.geom_point()"
   ]
  },
  {
   "cell_type": "code",
   "execution_count": 9,
   "metadata": {},
   "outputs": [
    {
     "data": {
      "text/plain": [
       "rpy2.robjects.lib.ggplot2.GGPlot"
      ]
     },
     "execution_count": 9,
     "metadata": {},
     "output_type": "execute_result"
    }
   ],
   "source": [
    "type(try_ggplot)"
   ]
  },
  {
   "cell_type": "code",
   "execution_count": 10,
   "metadata": {},
   "outputs": [
    {
     "data": {
      "text/plain": [
       "ggplot.ggplot.ggplot"
      ]
     },
     "execution_count": 10,
     "metadata": {},
     "output_type": "execute_result"
    }
   ],
   "source": [
    "type(pp)"
   ]
  },
  {
   "cell_type": "code",
   "execution_count": 11,
   "metadata": {},
   "outputs": [
    {
     "data": {
      "text/plain": [
       "rpy2.robjects.packages.InstalledSTPackage"
      ]
     },
     "execution_count": 11,
     "metadata": {},
     "output_type": "execute_result"
    }
   ],
   "source": [
    "type(gp)"
   ]
  },
  {
   "cell_type": "code",
   "execution_count": 12,
   "metadata": {
    "collapsed": true
   },
   "outputs": [],
   "source": [
    "from rpy2 import robjects\n",
    "from rpy2.robjects import Formula, Environment\n",
    "from rpy2.robjects.vectors import IntVector, FloatVector\n",
    "from rpy2.robjects.lib import grid\n",
    "from rpy2.robjects.packages import importr, data\n",
    "from rpy2.rinterface import RRuntimeError\n",
    "import warnings\n",
    "\n",
    "# The R 'print' function\n",
    "rprint = robjects.globalenv.get(\"print\")\n",
    "stats = importr('stats')\n",
    "grdevices = importr('grDevices')\n",
    "base = importr('base')\n",
    "datasets = importr('datasets')\n",
    "\n",
    "grid.activate()"
   ]
  },
  {
   "cell_type": "code",
   "execution_count": 13,
   "metadata": {},
   "outputs": [
    {
     "data": {
      "text/html": [
       "\n",
       "    <span>IntVector with 1 elements.</span>\n",
       "    <table>\n",
       "      <tbody>\n",
       "      <tr>\n",
       "      \n",
       "      <td>\n",
       "        1\n",
       "      </td>\n",
       "      \n",
       "      </tr>\n",
       "      </tbody>\n",
       "    </table>\n",
       "    "
      ],
      "text/plain": [
       "R object with classes: ('integer',) mapped to:\n",
       "<IntVector - Python:0x0000029EB416B0C8 / R:0x0000029EB7A88238>\n",
       "[1]"
      ]
     },
     "execution_count": 13,
     "metadata": {},
     "output_type": "execute_result"
    }
   ],
   "source": [
    "grdevices = importr('grDevices')\n",
    "grdevices.png(file='tryplot.png', width=1300, height=1000)\n",
    "    #your plot script here\n",
    "grdevices.dev_off()"
   ]
  },
  {
   "cell_type": "code",
   "execution_count": 14,
   "metadata": {
    "collapsed": true
   },
   "outputs": [],
   "source": [
    "ggline_try = gp.ggline(mmtcars, x=\"gear\", y=\"mpg\", add=\"mean_se\")"
   ]
  },
  {
   "cell_type": "code",
   "execution_count": 15,
   "metadata": {
    "collapsed": true
   },
   "outputs": [],
   "source": [
    "import uuid\n",
    "from IPython.core.display import Image\n",
    "\n",
    "grdevices = importr('grDevices')\n",
    "def ggplot_notebook(gg, width = 800, height = 600):\n",
    "    fn = '{uuid}.png'.format(uuid = uuid.uuid4())\n",
    "    grdevices.png(fn, width = width, height = height)\n",
    "    gg.plot()\n",
    "    grdevices.dev_off()\n",
    "    return Image(filename=fn)"
   ]
  },
  {
   "cell_type": "code",
   "execution_count": 16,
   "metadata": {},
   "outputs": [
    {
     "data": {
      "image/png": "[encoded data removed]",
      "text/plain": [
       "<IPython.core.display.Image object>"
      ]
     },
     "execution_count": 16,
     "metadata": {},
     "output_type": "execute_result"
    }
   ],
   "source": [
    "ggplot_notebook(try_ggplot)"
   ]
  },
  {
   "cell_type": "code",
   "execution_count": 17,
   "metadata": {},
   "outputs": [],
   "source": [
    "import rpy2.ipython.rmagic\n",
    "%load_ext rpy2.ipython\n",
    "%R"
   ]
  },
  {
   "cell_type": "code",
   "execution_count": 18,
   "metadata": {
    "collapsed": true
   },
   "outputs": [],
   "source": [
    "%%R \n",
    "\n",
    "library(wesanderson)\n",
    "library(ggsci)\n",
    "library(ggplot2)\n",
    "library(wesanderson)\n",
    "library(magrittr)\n",
    "library(ggpubr)\n",
    "library(dplyr)\n",
    "\n",
    "setwd(\"D:/Data/Research_projeccts/NTUACdata/NTUAC_Analysis\")\n",
    "NTUAC2.all <- read.csv('ALL_3_4_5梯V2.csv')\n",
    "\n",
    "NTUAC2.data <- data.frame(NTUAC2.all)\n",
    "NTUAC2.data$Task <- as.factor(NTUAC2.data$Task)\n",
    "NTUAC2.data$DIA_N <- as.factor(NTUAC2.data$DIA_N)\n",
    "\n",
    "NTUAC2.data.FThreeA <- NTUAC2.data[complete.cases(NTUAC2.data),]\n",
    "NTUAC2.data.FThree <- NTUAC2.data.FThreeA[NTUAC2.data.FThreeA$Fir3==1,]\n",
    "Df.NB <- subset(NTUAC2.data, Task==\"NB\") \n",
    "Df.I <- subset(NTUAC2.data, Task==\"I\") \n",
    "Df.S <- subset(NTUAC2.data, Task==\"S\")\n",
    "\n",
    "NTUAC2.data.FThree[,9] <- sequence(rle(NTUAC2.data.FThree$Tag)$length)\n",
    "NTUAC2.data.FThree[,9]\n",
    "NTUAC2.data$Subject <- as.factor(NTUAC2.data$Subject)\n",
    "colnames(NTUAC2.data.FThree)[9] <- \"times\"\n",
    "NTUAC2.data.FThree$Tag <- as.factor(NTUAC2.data.FThree$Tag)\n",
    "\n",
    "B.data <- c()\n",
    "BI.data <- c()\n",
    "BNB.data <- c()\n",
    "BS.data <- c()\n",
    "\n",
    "groupNum <- 5\n",
    "taskName <- c(\"I\", \"NB\",\"S\")\n",
    "groupName <- c(\"CN\", \"SCD\", \"MCI\")\n",
    "\n",
    "R.data.total <- c()\n",
    "Sub.tag <- c()\n",
    "Dif.tag <- c()\n",
    "Dia.tag <- c()\n",
    "Task.tag <- c()\n",
    "u = 0\n",
    "\n",
    "GroupACC <- split(NTUAC2.data.FThree, NTUAC2.data.FThree$Subject)\n",
    "\n",
    "for (i in 1:length(GroupACC)){\n",
    "  SS <- GroupACC[[i]]\n",
    "  ST <- split(SS, SS$Task)\n",
    "  for (j in 1:length(ST)){\n",
    "      STT <- ST[[j]]\n",
    "      STTD <- split(STT, STT$Tag)\n",
    "      for (k in 1:(length(STTD)-1)){\n",
    "          STTDD <- STTD[[k]]\n",
    "          if (is.na(STTDD$Session[1])==FALSE){\n",
    "            RE <- summary(lm(STTDD$ACC ~ STTDD$times))\n",
    "            dataR <- as.data.frame(RE$coefficients)\n",
    "            R.data.total <- c(R.data.total, dataR$Estimate[2])\n",
    "            Sub.tag <- c(Sub.tag, as.character(STTDD$Subject[1]))\n",
    "            Dif.tag <- c(Dif.tag, as.character(STTDD$Tag[1]))\n",
    "            Dia.tag <- c(Dia.tag, as.character(STTDD$DIA_N[1]))\n",
    "            Task.tag <- c(Task.tag, as.character(STTDD$Task[1]))\n",
    "            u = u+1\n",
    "          }\n",
    "      }\n",
    "  }\n",
    "}\n",
    "\n",
    "col.name <- c(\"Task.tag\", \"Sub.tag\", \"Dif.tag\", \"Dia.tag\")\n",
    "Total.df <- data.frame(R.data.total, Task.tag, Sub.tag, Dif.tag, Dia.tag)\n",
    "Total.df <- na.omit(Total.df)\n",
    "Total.df[col.name] <- lapply(Total.df[col.name], factor)\n",
    "\n",
    "ggline(Total.df, x = \"Dif.tag\", y = \"R.data.total\", add = \"mean_se\",\n",
    "       color = \"Dia.tag\", palette = \"jco\", facet.by = \"Task.tag\") +\n",
    "  labs(title = \"Group difference in slope of accuarcy changing in each levels\", x = \"Difficulty levels\", y = \"Slope of accuracy\", fill = \"DIAGNOSE\") +\n",
    "  theme(plot.title = element_text(hjust = 0.5, size= 15)) +\n",
    "  stat_compare_means(aes(group = Dia.tag), label = \"p.signif\", \n",
    "                     label.y = 0.13)\n",
    "\n",
    "kk <- lm(Total.df$R.data.total ~ Total.df$Dia.tag * Total.df$Task.tag * Total.df$Dif.tag)\n",
    "summary(kk)\n",
    "\n",
    "#######\n",
    "\n",
    "for (Gname in groupName){\n",
    "  for (i in (1:groupNum)){\n",
    "    GroupACC <- NTUAC2.data.FThree[NTUAC2.data.FThree$Tag==i&NTUAC2.data.FThree$DIA_N==Gname,]\n",
    "    GroupACC.S <- split(GroupACC, GroupACC$Task)\n",
    "    \n",
    "    do.this <- c(\"I\",\"NB\",\"S\")\n",
    "    \n",
    "    for (do in do.this){\n",
    "    \n",
    "    switch(do,\n",
    "      I = {\n",
    "        IR <- summary(lm(GroupACC.S$I$ACC ~ GroupACC.S$I$times))\n",
    "        dataI <- as.data.frame(IR$coefficients)\n",
    "        BI.data <- c(BI.data, dataI$Estimate[2])\n",
    "      },\n",
    "      NB = {\n",
    "        NBR <- summary(lm(GroupACC.S$NB$ACC ~ GroupACC.S$NB$times))\n",
    "        dataNB <- as.data.frame(NBR$coefficients)\n",
    "        BNB.data <- c(BNB.data, dataNB$Estimate[2])\n",
    "      },\n",
    "      S = {\n",
    "        SR <- summary(lm(GroupACC.S$S$ACC ~ GroupACC.S$S$times))\n",
    "        dataS <- as.data.frame(SR$coefficients)\n",
    "        BS.data <- c(BS.data, dataS$Estimate[2])\n",
    "      }\n",
    "    )\n",
    "    }\n",
    "    }\n",
    "}\n",
    "\n",
    "group.Tag <- rep(rep(c(\"CN\",\"SCD\",\"MCI\"),c(5,5,5)), 3)\n",
    "dif.Tag <- rep(rep(c(1:5),3), 3)\n",
    "mean.slope <-  c(BI.data, BNB.data, BS.data)\n",
    "Task.Tag <- rep(c(\"I\", \"NB\", \"S\"), c(15,15,15))\n",
    "\n",
    "M.slope.R <- data.frame(mean.slope, Task.Tag, dif.Tag, group.Tag)\n",
    "\n",
    "M.slope.R$dif.Tag <- as.factor(M.slope.R$dif.Tag)\n",
    "M.slope.R$Task.Tag <- as.factor(M.slope.R$Task.Tag)\n",
    "M.slope.R$group.Tag <- as.factor(M.slope.R$group.Tag)\n",
    "\n",
    "m <- lm(M.slope.R$mean.slope ~ M.slope.R$Task.Tag * M.slope.R$group.Tag * M.slope.R$dif.Tag)\n",
    "summary(m)"
   ]
  },
  {
   "cell_type": "code",
   "execution_count": 19,
   "metadata": {},
   "outputs": [
    {
     "data": {
      "image/png": "[encoded data removed]"
     },
     "metadata": {},
     "output_type": "display_data"
    }
   ],
   "source": [
    "%%R \n",
    "ggplot(data=M.slope.R, aes(y=mean.slope))+\n",
    "  geom_bar(aes(x=group.Tag, group=dif.Tag,  fill=group.Tag), stat=\"identity\", position=position_dodge(1)) +\n",
    "  facet_grid(~Task.Tag, scale='free_x')"
   ]
  },
  {
   "cell_type": "code",
   "execution_count": 20,
   "metadata": {},
   "outputs": [
    {
     "data": {
      "image/png": "[encoded data removed]"
     },
     "metadata": {},
     "output_type": "display_data"
    }
   ],
   "source": [
    "%%R \n",
    "ggplot(data=M.slope.R, aes(y=mean.slope))+\n",
    "      geom_bar(aes(x=dif.Tag, group=group.Tag,  fill=group.Tag), stat=\"identity\", position=position_dodge(1)) +\n",
    "      facet_grid(~Task.Tag, scale='free_x') +\n",
    "      geom_smooth(aes(x = dif.Tag, group=group.Tag, colour=group.Tag, fill=group.Tag), method=\"glm\", position=position_dodge(1))\n"
   ]
  },
  {
   "cell_type": "code",
   "execution_count": 21,
   "metadata": {},
   "outputs": [
    {
     "data": {
      "image/png": "[encoded data removed]"
     },
     "metadata": {},
     "output_type": "display_data"
    }
   ],
   "source": [
    "%%R\n",
    "ggline(M.slope.R, x = \"dif.Tag\", y = \"mean.slope\", add = \"mean_se\",\n",
    "       color = \"group.Tag\", palette = \"jco\", facet.by = \"Task.Tag\") +\n",
    "  labs(title = \"Group difference in each levels\", x = \"Difficulty levels\", y = \"Accuracy\", fill = \"DIAGNOSE\") +\n",
    "  theme(plot.title = element_text(hjust = 0.5, size= 15))"
   ]
  },
  {
   "cell_type": "code",
   "execution_count": 22,
   "metadata": {},
   "outputs": [
    {
     "data": {
      "image/png": "[encoded data removed]"
     },
     "metadata": {},
     "output_type": "display_data"
    }
   ],
   "source": [
    "%%R\n",
    "ggplot(data=M.slope.R, aes(x=dif.Tag, y=mean.slope))+\n",
    "  geom_bar(aes(group=dif.Tag,  fill=group.Tag), stat=\"identity\", position=position_dodge(1)) +\n",
    "  facet_grid(group.Tag~Task.Tag, scale='free_x') +\n",
    "  geom_smooth(aes(group=group.Tag), method=\"lm\")"
   ]
  }
 ],
 "metadata": {
  "kernelspec": {
   "display_name": "Python 3",
   "language": "python",
   "name": "python3"
  },
  "language_info": {
   "codemirror_mode": {
    "name": "ipython",
    "version": 3
   },
   "file_extension": ".py",
   "mimetype": "text/x-python",
   "name": "python",
   "nbconvert_exporter": "python",
   "pygments_lexer": "ipython3",
   "version": "3.6.3"
  }
 },
 "nbformat": 4,
 "nbformat_minor": 2
}
